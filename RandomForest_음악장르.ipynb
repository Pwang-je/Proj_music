{
 "cells": [
  {
   "cell_type": "code",
   "execution_count": 1,
   "metadata": {},
   "outputs": [],
   "source": [
    "# -*- coding: UTF-8 -*-\n",
    "from selenium import webdriver\n",
    "from bs4 import BeautifulSoup\n",
    "import re\n",
    "import pymongo\n",
    "import pandas as pd \n",
    "import numpy as np\n",
    "import pickle\n",
    "\n",
    "\n",
    "from sklearn.ensemble import RandomForestClassifier,ExtraTreesClassifier\n",
    "from sklearn.svm import SVC\n",
    "from sklearn.linear_model import SGDClassifier\n",
    "from sklearn.linear_model import LogisticRegression\n",
    "from sklearn.ensemble import RandomForestClassifier\n",
    "\n",
    "from konlpy.tag import Twitter\n",
    "from sklearn.feature_extraction.text import TfidfTransformer, TfidfVectorizer\n",
    "\n",
    "from scipy.sparse import csr_matrix\n",
    "from scipy.sparse import hstack\n",
    "from scipy.sparse import vstack\n",
    "\n",
    "from sklearn.metrics import accuracy_score"
   ]
  },
  {
   "cell_type": "markdown",
   "metadata": {},
   "source": [
    "<h3>Predict Train Data</h3>"
   ]
  },
  {
   "cell_type": "code",
   "execution_count": 2,
   "metadata": {},
   "outputs": [],
   "source": [
    "df_2 = pd.read_excel(\"mnet_music777.xlsx\")"
   ]
  },
  {
   "cell_type": "code",
   "execution_count": 3,
   "metadata": {},
   "outputs": [
    {
     "data": {
      "text/plain": [
       "Index(['순위', '곡명', '가수', '작곡', '작사', '피쳐링', '년월', '발매일', '음악장르', '재생시간', '좋아요',\n",
       "       '편곡', '활동유형', '작곡1', '작곡2', '작곡3', '작곡4', '작곡5', '작곡6', '작곡7', '작곡8',\n",
       "       '작곡9', '작곡10', '작곡11', '작곡12', '작사1', '작사2', '작사3', '작사4', '작사5', '작사6',\n",
       "       '작사7', '작사8', '작사9', '작사10', '작사11', '작사12', '가수1', '가수2', '가수3', '가수4',\n",
       "       '가수5', '가수6', '가수7', '가수8', '가수9', '가수10', '가수11'],\n",
       "      dtype='object')"
      ]
     },
     "execution_count": 3,
     "metadata": {},
     "output_type": "execute_result"
    }
   ],
   "source": [
    "df_2.columns"
   ]
  },
  {
   "cell_type": "code",
   "execution_count": 4,
   "metadata": {},
   "outputs": [
    {
     "data": {
      "text/html": [
       "<div>\n",
       "<style scoped>\n",
       "    .dataframe tbody tr th:only-of-type {\n",
       "        vertical-align: middle;\n",
       "    }\n",
       "\n",
       "    .dataframe tbody tr th {\n",
       "        vertical-align: top;\n",
       "    }\n",
       "\n",
       "    .dataframe thead th {\n",
       "        text-align: right;\n",
       "    }\n",
       "</style>\n",
       "<table border=\"1\" class=\"dataframe\">\n",
       "  <thead>\n",
       "    <tr style=\"text-align: right;\">\n",
       "      <th></th>\n",
       "      <th>순위</th>\n",
       "      <th>곡명</th>\n",
       "      <th>가수</th>\n",
       "      <th>작곡</th>\n",
       "      <th>작사</th>\n",
       "      <th>피쳐링</th>\n",
       "      <th>년월</th>\n",
       "      <th>발매일</th>\n",
       "      <th>음악장르</th>\n",
       "      <th>재생시간</th>\n",
       "      <th>...</th>\n",
       "      <th>가수2</th>\n",
       "      <th>가수3</th>\n",
       "      <th>가수4</th>\n",
       "      <th>가수5</th>\n",
       "      <th>가수6</th>\n",
       "      <th>가수7</th>\n",
       "      <th>가수8</th>\n",
       "      <th>가수9</th>\n",
       "      <th>가수10</th>\n",
       "      <th>가수11</th>\n",
       "    </tr>\n",
       "  </thead>\n",
       "  <tbody>\n",
       "    <tr>\n",
       "      <th>0</th>\n",
       "      <td>1위</td>\n",
       "      <td>Gee</td>\n",
       "      <td>소녀시대</td>\n",
       "      <td>이트라이브</td>\n",
       "      <td>이트라이브</td>\n",
       "      <td>없음</td>\n",
       "      <td>2009</td>\n",
       "      <td>2009.01.05</td>\n",
       "      <td>댄스 &gt; 댄스</td>\n",
       "      <td>03:22</td>\n",
       "      <td>...</td>\n",
       "      <td>없음</td>\n",
       "      <td>없음</td>\n",
       "      <td>없음</td>\n",
       "      <td>없음</td>\n",
       "      <td>없음</td>\n",
       "      <td>없음</td>\n",
       "      <td>없음</td>\n",
       "      <td>없음</td>\n",
       "      <td>없음</td>\n",
       "      <td>없음</td>\n",
       "    </tr>\n",
       "    <tr>\n",
       "      <th>1</th>\n",
       "      <td>2위</td>\n",
       "      <td>이젠 남이야 (Feat. Baby-J of Jewelry)</td>\n",
       "      <td>김경록</td>\n",
       "      <td>조영수</td>\n",
       "      <td>조영수</td>\n",
       "      <td>Baby-J</td>\n",
       "      <td>2009</td>\n",
       "      <td>2008.12.16</td>\n",
       "      <td>가요 &gt; 알앤비</td>\n",
       "      <td>04:07</td>\n",
       "      <td>...</td>\n",
       "      <td>없음</td>\n",
       "      <td>없음</td>\n",
       "      <td>없음</td>\n",
       "      <td>없음</td>\n",
       "      <td>없음</td>\n",
       "      <td>없음</td>\n",
       "      <td>없음</td>\n",
       "      <td>없음</td>\n",
       "      <td>없음</td>\n",
       "      <td>없음</td>\n",
       "    </tr>\n",
       "  </tbody>\n",
       "</table>\n",
       "<p>2 rows × 48 columns</p>\n",
       "</div>"
      ],
      "text/plain": [
       "   순위                                곡명    가수     작곡     작사     피쳐링    년월  \\\n",
       "0  1위                               Gee  소녀시대  이트라이브  이트라이브      없음  2009   \n",
       "1  2위  이젠 남이야 (Feat. Baby-J of Jewelry)   김경록    조영수    조영수  Baby-J  2009   \n",
       "\n",
       "          발매일      음악장르   재생시간 ...  가수2 가수3 가수4 가수5 가수6 가수7 가수8 가수9 가수10 가수11  \n",
       "0  2009.01.05   댄스 > 댄스  03:22 ...   없음  없음  없음  없음  없음  없음  없음  없음   없음   없음  \n",
       "1  2008.12.16  가요 > 알앤비  04:07 ...   없음  없음  없음  없음  없음  없음  없음  없음   없음   없음  \n",
       "\n",
       "[2 rows x 48 columns]"
      ]
     },
     "execution_count": 4,
     "metadata": {},
     "output_type": "execute_result"
    }
   ],
   "source": [
    "df_2.head(2)"
   ]
  },
  {
   "cell_type": "code",
   "execution_count": 5,
   "metadata": {},
   "outputs": [],
   "source": [
    "df_2['순위_2'] = df_2['순위'].apply(lambda x: float(x[:-1]))\n",
    "df_2['순위_4'] = df_2['순위_2'].apply(lambda x : True if x <= 10 else False) #(df_2['순위_2']-1)/10"
   ]
  },
  {
   "cell_type": "code",
   "execution_count": 6,
   "metadata": {},
   "outputs": [],
   "source": [
    "# 작곡, 가수의 공백 제거\n",
    "df_2['가수1_rb'] = df_2['가수1'].apply(lambda x: str(x).replace(\" \", \"\"))\n",
    "df_2['작곡1_rb'] = df_2['작곡1'].apply(lambda x: str(x).replace(\" \", \"\"))"
   ]
  },
  {
   "cell_type": "markdown",
   "metadata": {},
   "source": [
    "<h3>음악장르 처리</h3>"
   ]
  },
  {
   "cell_type": "code",
   "execution_count": 7,
   "metadata": {},
   "outputs": [],
   "source": [
    "# OST          268\n",
    "# 가요 > 락      1080\n",
    "# 가요 > 알앤비    9359\n",
    "# 가요 > 힙합     3076\n",
    "# 기타           970\n",
    "# 댄스 > 댄스     6818"
   ]
  },
  {
   "cell_type": "code",
   "execution_count": 8,
   "metadata": {},
   "outputs": [
    {
     "data": {
      "text/plain": [
       "음악장르\n",
       "OST          188\n",
       "가요 > 락       656\n",
       "가요 > 알앤비    5319\n",
       "가요 > 힙합     1804\n",
       "기타           538\n",
       "댄스 > 댄스     3474\n",
       "dtype: int64"
      ]
     },
     "execution_count": 8,
     "metadata": {},
     "output_type": "execute_result"
    }
   ],
   "source": [
    "df_2.groupby('음악장르').size()"
   ]
  },
  {
   "cell_type": "code",
   "execution_count": 9,
   "metadata": {},
   "outputs": [],
   "source": [
    "def trans_music_type(x):\n",
    "    if str(x) == 'OST':\n",
    "        return 0\n",
    "    if str(x) == '가요 > 락':\n",
    "        return 1\n",
    "    if str(x) == '가요 > 알앤비':\n",
    "        return 2\n",
    "    if str(x) == '가요 > 힙합':\n",
    "        return 3\n",
    "    if str(x) == '기타':\n",
    "        return 4\n",
    "    if str(x) == '댄스 > 댄스':\n",
    "        return 5\n",
    "    else:\n",
    "        return 6"
   ]
  },
  {
   "cell_type": "code",
   "execution_count": 10,
   "metadata": {},
   "outputs": [],
   "source": [
    "df_2['음악장르_2'] = df_2['음악장르'].apply(trans_music_type)"
   ]
  },
  {
   "cell_type": "code",
   "execution_count": 11,
   "metadata": {},
   "outputs": [
    {
     "data": {
      "text/plain": [
       "<matplotlib.axes._subplots.AxesSubplot at 0xbc7a780>"
      ]
     },
     "execution_count": 11,
     "metadata": {},
     "output_type": "execute_result"
    }
   ],
   "source": [
    "import seaborn as sns\n",
    "sns.countplot(df_2['순위_4'])"
   ]
  },
  {
   "cell_type": "code",
   "execution_count": 12,
   "metadata": {},
   "outputs": [
    {
     "data": {
      "text/plain": [
       "<matplotlib.axes._subplots.AxesSubplot at 0xb597518>"
      ]
     },
     "execution_count": 12,
     "metadata": {},
     "output_type": "execute_result"
    },
    {
     "data": {
      "image/png": "[encoded data removed]",
      "text/plain": [
       "<Figure size 432x288 with 1 Axes>"
      ]
     },
     "metadata": {},
     "output_type": "display_data"
    }
   ],
   "source": [
    "#class 분포가 너무 치우쳐져 있다. => false라고만 대답하면 90프로는 맞는다.. \n",
    "# 분포를 맞추기 위해 복사함 10위 안 데이터를 \n",
    "import seaborn as sns\n",
    "train_top_10 = df_2[df_2['순위_2'] <= 10]\n",
    "\n",
    "for i in range(8):\n",
    "    df_2 = pd.concat([df_2, train_top_10])\n",
    "    \n",
    "sns.countplot(df_2['순위_4'])"
   ]
  },
  {
   "cell_type": "code",
   "execution_count": 13,
   "metadata": {},
   "outputs": [],
   "source": [
    "# train test 나누기\n",
    "\n",
    "# random idx 뽑기\n",
    "test_idx = np.random.choice(len(df_2), 5000, replace=False)\n",
    "train_idx = list({i for i in range(len(df_2))} - set(test_idx))\n",
    "\n",
    "train = df_2.iloc[train_idx]\n",
    "test = df_2.iloc[test_idx]"
   ]
  },
  {
   "cell_type": "code",
   "execution_count": 14,
   "metadata": {},
   "outputs": [
    {
     "name": "stdout",
     "output_type": "stream",
     "text": [
      "16571\n",
      "5000\n"
     ]
    }
   ],
   "source": [
    "print(len(train))\n",
    "print(len(test))"
   ]
  },
  {
   "cell_type": "markdown",
   "metadata": {},
   "source": [
    "장르 처리"
   ]
  },
  {
   "cell_type": "code",
   "execution_count": 15,
   "metadata": {},
   "outputs": [
    {
     "data": {
      "text/plain": [
       "array([[0., 0., 0., 0., 0., 1.],\n",
       "       [0., 0., 1., 0., 0., 0.],\n",
       "       [0., 0., 0., 1., 0., 0.],\n",
       "       ...,\n",
       "       [0., 0., 1., 0., 0., 0.],\n",
       "       [0., 0., 0., 1., 0., 0.],\n",
       "       [0., 0., 0., 0., 0., 1.]])"
      ]
     },
     "execution_count": 15,
     "metadata": {},
     "output_type": "execute_result"
    }
   ],
   "source": [
    "# 장르 vectorize\n",
    "\n",
    "from sklearn.preprocessing import OneHotEncoder\n",
    "ohe = OneHotEncoder()\n",
    "\n",
    "music_type = np.array(train['음악장르_2']).reshape(-1,1)\n",
    "\n",
    "ohe.fit(music_type)\n",
    "t_music_type = ohe.transform(music_type).toarray()\n",
    "\n",
    "t_music_type"
   ]
  },
  {
   "cell_type": "markdown",
   "metadata": {},
   "source": [
    "작곡, 가수 처리"
   ]
  },
  {
   "cell_type": "code",
   "execution_count": 16,
   "metadata": {},
   "outputs": [],
   "source": [
    "# 작곡, 가수 vectorize\n",
    "vectorizer_singer =  TfidfVectorizer(ngram_range=(1,1))\n",
    "vectorizer_pd =  TfidfVectorizer(ngram_range=(1,1))\n",
    "\n",
    "singer_vec = vectorizer_singer.fit_transform(train['가수1_rb'])\n",
    "pd_vec = vectorizer_pd.fit_transform(train['작곡1_rb'])"
   ]
  },
  {
   "cell_type": "code",
   "execution_count": 17,
   "metadata": {},
   "outputs": [
    {
     "name": "stdout",
     "output_type": "stream",
     "text": [
      "894\n",
      "1107\n"
     ]
    }
   ],
   "source": [
    "# 가수 , 작곡 각각 feature 수(사전)\n",
    "print(len(vectorizer_singer.get_feature_names()))\n",
    "print(len(vectorizer_pd.get_feature_names()))"
   ]
  },
  {
   "cell_type": "code",
   "execution_count": 18,
   "metadata": {},
   "outputs": [
    {
     "data": {
      "text/plain": [
       "<16571x2001 sparse matrix of type '<class 'numpy.float64'>'\n",
       "\twith 32905 stored elements in COOrdinate format>"
      ]
     },
     "execution_count": 18,
     "metadata": {},
     "output_type": "execute_result"
    }
   ],
   "source": [
    "# 두 sparse matrix(가수, 작곡) 합치기\n",
    "from scipy import sparse\n",
    "singer_pd_vec = hstack((singer_vec, pd_vec))\n",
    "singer_pd_vec"
   ]
  },
  {
   "cell_type": "code",
   "execution_count": 19,
   "metadata": {},
   "outputs": [],
   "source": [
    "# 장르 합치기\n",
    "singer_pd_type_vec = hstack((singer_pd_vec, np.array(train['음악장르_2']).reshape(-1,1)))"
   ]
  },
  {
   "cell_type": "code",
   "execution_count": 20,
   "metadata": {},
   "outputs": [],
   "source": [
    "train_x = singer_pd_type_vec\n",
    "train_y = train['순위_4']"
   ]
  },
  {
   "cell_type": "code",
   "execution_count": 21,
   "metadata": {},
   "outputs": [],
   "source": [
    "# model_rf = RandomForestClassifier(n_estimators=500, max_depth=10).fit(train_x, train_y)"
   ]
  },
  {
   "cell_type": "code",
   "execution_count": 22,
   "metadata": {},
   "outputs": [],
   "source": [
    "from sklearn.linear_model import SGDClassifier\n",
    "model_rf = LogisticRegression().fit(train_x, train_y)"
   ]
  },
  {
   "cell_type": "code",
   "execution_count": null,
   "metadata": {},
   "outputs": [],
   "source": []
  },
  {
   "cell_type": "code",
   "execution_count": 23,
   "metadata": {},
   "outputs": [
    {
     "data": {
      "text/plain": [
       "0.7403898376682155"
      ]
     },
     "execution_count": 23,
     "metadata": {},
     "output_type": "execute_result"
    }
   ],
   "source": [
    "pred_train = model_rf.predict(train_x)\n",
    "accuracy_score(train['순위_4'], pred_train)"
   ]
  },
  {
   "cell_type": "code",
   "execution_count": 24,
   "metadata": {},
   "outputs": [
    {
     "name": "stdout",
     "output_type": "stream",
     "text": [
      "             precision    recall  f1-score   support\n",
      "\n",
      "      False       0.80      0.63      0.71      8228\n",
      "       True       0.70      0.85      0.77      8343\n",
      "\n",
      "avg / total       0.75      0.74      0.74     16571\n",
      "\n"
     ]
    }
   ],
   "source": [
    "from sklearn.metrics import classification_report\n",
    "print(classification_report(train_y, pred_train))"
   ]
  },
  {
   "cell_type": "markdown",
   "metadata": {},
   "source": [
    "<h3>2. Predict Test data  </h3>"
   ]
  },
  {
   "cell_type": "code",
   "execution_count": 25,
   "metadata": {},
   "outputs": [],
   "source": [
    "# train vectorizer 활용 tfidf \n",
    "feature_list_singer = vectorizer_singer.get_feature_names()\n",
    "feature_list_pd = vectorizer_pd.get_feature_names()"
   ]
  },
  {
   "cell_type": "code",
   "execution_count": 26,
   "metadata": {},
   "outputs": [],
   "source": [
    "test_vectorizer_singer =  TfidfVectorizer(ngram_range=(1,1), vocabulary = feature_list_singer)\n",
    "test_vectorizer_pd =  TfidfVectorizer(ngram_range=(1,1), vocabulary = feature_list_pd)"
   ]
  },
  {
   "cell_type": "code",
   "execution_count": 27,
   "metadata": {},
   "outputs": [],
   "source": [
    "\n",
    "test_vec_singer = test_vectorizer_singer.fit_transform(test['가수1_rb'])\n",
    "test_vec_pd = test_vectorizer_pd.fit_transform(test['작곡1_rb'])\n"
   ]
  },
  {
   "cell_type": "code",
   "execution_count": 34,
   "metadata": {},
   "outputs": [],
   "source": [
    "test_vec_pd_singer = hstack((test_vec_singer, test_vec_pd))\n",
    "test_y = test['순위_4']\n",
    "test_x = hstack((test_vec_pd_singer, np.array(test['음악장르_2']).reshape(-1,1)))"
   ]
  },
  {
   "cell_type": "code",
   "execution_count": 35,
   "metadata": {},
   "outputs": [
    {
     "name": "stdout",
     "output_type": "stream",
     "text": [
      "(16571, 2002)\n",
      "(5000, 2002)\n"
     ]
    }
   ],
   "source": [
    "print(train_x.shape)\n",
    "print(test_x.shape)"
   ]
  },
  {
   "cell_type": "code",
   "execution_count": 36,
   "metadata": {
    "scrolled": true
   },
   "outputs": [
    {
     "data": {
      "text/plain": [
       "0.71"
      ]
     },
     "execution_count": 36,
     "metadata": {},
     "output_type": "execute_result"
    }
   ],
   "source": [
    "pred_test = model_rf.predict(test_x)\n",
    "accuracy_score(test_y, pred_test)"
   ]
  },
  {
   "cell_type": "code",
   "execution_count": 37,
   "metadata": {
    "scrolled": true
   },
   "outputs": [
    {
     "name": "stdout",
     "output_type": "stream",
     "text": [
      "             precision    recall  f1-score   support\n",
      "\n",
      "      False       0.78      0.60      0.68      2552\n",
      "       True       0.66      0.83      0.74      2448\n",
      "\n",
      "avg / total       0.72      0.71      0.71      5000\n",
      "\n"
     ]
    }
   ],
   "source": [
    "print(classification_report(test['순위_4'], pred_test))"
   ]
  },
  {
   "cell_type": "code",
   "execution_count": 38,
   "metadata": {},
   "outputs": [],
   "source": [
    "#model_rf.feature_importances_[model_rf.feature_importances_ >= 0.02]"
   ]
  },
  {
   "cell_type": "code",
   "execution_count": 39,
   "metadata": {},
   "outputs": [
    {
     "data": {
      "text/plain": [
       "['10cm',\n",
       " '15',\n",
       " '2am',\n",
       " '2ne1',\n",
       " '2pm',\n",
       " '45rpm',\n",
       " '7goup',\n",
       " 'ab에비뉴',\n",
       " 'adamlevine',\n",
       " 'adele',\n",
       " 'aj',\n",
       " 'alanwalker',\n",
       " 'albertkick',\n",
       " 'aliciakeys',\n",
       " 'andraday',\n",
       " 'aoa',\n",
       " 'aoablack',\n",
       " 'aoacream',\n",
       " 'apink',\n",
       " 'arianagrande',\n",
       " 'ashily',\n",
       " 'avrillavigne',\n",
       " 'b1a4',\n",
       " 'beyonce',\n",
       " 'bizzy',\n",
       " 'blackeyedpeas',\n",
       " 'blackpink',\n",
       " 'bmk',\n",
       " 'bobby',\n",
       " 'britneyspears',\n",
       " 'bro',\n",
       " 'brunomars',\n",
       " 'camilacabello',\n",
       " 'carlabruni',\n",
       " 'carlyraejepsen',\n",
       " 'charlieputh',\n",
       " 'cherryfilter',\n",
       " 'christinaaguilera',\n",
       " 'ciara',\n",
       " 'cl',\n",
       " 'clown',\n",
       " 'coogie',\n",
       " 'craigdavid',\n",
       " 'crush',\n",
       " 'cthemax',\n",
       " 'davidguetta',\n",
       " 'dean',\n",
       " 'demilovato',\n",
       " 'djdoc',\n",
       " 'djgollum',\n",
       " 'djkuba',\n",
       " 'dk',\n",
       " 'dmtn',\n",
       " 'drake',\n",
       " 'duffy',\n",
       " 'edsheeran',\n",
       " 'elliegoulding',\n",
       " 'eminem',\n",
       " 'emmastone',\n",
       " 'exid',\n",
       " 'exo',\n",
       " 'fareastmovement',\n",
       " 'fitz',\n",
       " 'florida',\n",
       " 'flowsik',\n",
       " 'ftisland',\n",
       " 'gg',\n",
       " 'god',\n",
       " 'ham',\n",
       " 'hisuhyun',\n",
       " 'homme',\n",
       " 'iconapop',\n",
       " 'idinamenzel',\n",
       " 'ikon',\n",
       " 'illionairerecords',\n",
       " 'imaginedragons',\n",
       " 'jamezz',\n",
       " 'jasonmraz',\n",
       " 'jbj',\n",
       " 'jbj95',\n",
       " 'jeffbernat',\n",
       " 'jessiej',\n",
       " 'jk김동욱',\n",
       " 'johnlegend',\n",
       " 'justinbieber',\n",
       " 'justinhurwitz',\n",
       " 'jyj',\n",
       " 'jyp',\n",
       " 'jypnation',\n",
       " 'kcm',\n",
       " 'kei',\n",
       " 'keiraknightley',\n",
       " 'kelly',\n",
       " 'kesha',\n",
       " 'kidmilli',\n",
       " 'knock',\n",
       " 'kristenbell',\n",
       " 'kush',\n",
       " 'ladygaga',\n",
       " 'lalalandcast',\n",
       " 'lasselindh',\n",
       " 'lmfao',\n",
       " 'm4',\n",
       " 'makesomenoise',\n",
       " 'mariahcarey',\n",
       " 'marianhill',\n",
       " 'markronson',\n",
       " 'maroon5',\n",
       " 'marshmello',\n",
       " 'mastawu',\n",
       " 'max',\n",
       " 'mc몽',\n",
       " 'mc스나이퍼',\n",
       " 'michaeljackson',\n",
       " 'missa',\n",
       " 'mxm',\n",
       " 'm시그널',\n",
       " 'm이민우',\n",
       " 'nafla',\n",
       " 'nan',\n",
       " 'ne',\n",
       " 'nickiminaj',\n",
       " 'ns윤지',\n",
       " 'oh',\n",
       " 'osshungum',\n",
       " 'ph',\n",
       " 'pinkrush',\n",
       " 'pitbull',\n",
       " 'pixielott',\n",
       " 'pk헤만',\n",
       " 'produce101',\n",
       " 'produce48',\n",
       " 'queen',\n",
       " 'rachaelyamagata',\n",
       " 'redfoo',\n",
       " 'rihanna',\n",
       " 'ryangosling',\n",
       " 'samsmith',\n",
       " 'santinofontana',\n",
       " 'sarabareilles',\n",
       " 'sg워너비',\n",
       " 'shawnmendes',\n",
       " 'sia',\n",
       " 'simond',\n",
       " 'simondominic',\n",
       " 'skyla',\n",
       " 'sondia',\n",
       " 'soul',\n",
       " 'ss501',\n",
       " 'straightnochaser',\n",
       " 'superbee',\n",
       " 'tan',\n",
       " 'thechainsmokers',\n",
       " 'themax',\n",
       " 'thenuts',\n",
       " 'thetantrums',\n",
       " 'top',\n",
       " 'troyesivan',\n",
       " 'usher',\n",
       " 'uv',\n",
       " 'websterb',\n",
       " 'winner',\n",
       " 'wizkhalifa',\n",
       " 'yb',\n",
       " 'ylvis',\n",
       " 'yo',\n",
       " '가비엔제이',\n",
       " '가인',\n",
       " '가희',\n",
       " '간미연',\n",
       " '갓세븐',\n",
       " '강균성',\n",
       " '강미진',\n",
       " '강승윤',\n",
       " '강지영',\n",
       " '강태우',\n",
       " '강현민',\n",
       " '개리',\n",
       " '개코',\n",
       " '거머리',\n",
       " '거미',\n",
       " '걸스데이',\n",
       " '검정치마',\n",
       " '견우',\n",
       " '고아라',\n",
       " '고유진',\n",
       " '공민지',\n",
       " '공유',\n",
       " '곽진언',\n",
       " '구구단',\n",
       " '구혜선',\n",
       " '국민의아들',\n",
       " '국카스텐',\n",
       " '군호',\n",
       " '권진아',\n",
       " '규현',\n",
       " '그레이',\n",
       " '기리보이',\n",
       " '기현',\n",
       " '긱스',\n",
       " '길구봉구',\n",
       " '길미',\n",
       " '길학미',\n",
       " '김건모',\n",
       " '김경록',\n",
       " '김경호',\n",
       " '김경희',\n",
       " '김광석',\n",
       " '김국환',\n",
       " '김그림',\n",
       " '김나영',\n",
       " '김남길',\n",
       " '김남주',\n",
       " '김도훈',\n",
       " '김동률',\n",
       " '김동욱',\n",
       " '김동희',\n",
       " '김민승',\n",
       " '김민종',\n",
       " '김범수',\n",
       " '김보경',\n",
       " '김선재',\n",
       " '김성규',\n",
       " '김성균',\n",
       " '김소리',\n",
       " '김소정',\n",
       " '김수현',\n",
       " '김연아',\n",
       " '김연우',\n",
       " '김연지',\n",
       " '김영근',\n",
       " '김예림',\n",
       " '김용준',\n",
       " '김용진',\n",
       " '김윤아',\n",
       " '김이지',\n",
       " '김재중',\n",
       " '김조한',\n",
       " '김종국',\n",
       " '김종욱',\n",
       " '김준',\n",
       " '김준수',\n",
       " '김지수',\n",
       " '김진표',\n",
       " '김진호',\n",
       " '김태우',\n",
       " '김필',\n",
       " '김하온',\n",
       " '김현정',\n",
       " '김현중',\n",
       " '김혜리',\n",
       " '김효은',\n",
       " '김희철',\n",
       " '나다',\n",
       " '나르샤',\n",
       " '나몰라패밀리',\n",
       " '나몰라패밀리jw',\n",
       " '나몰라패밀리n',\n",
       " '나비',\n",
       " '나얼',\n",
       " '나윤권',\n",
       " '나인뮤지스',\n",
       " '나인뮤지스a',\n",
       " '낙준',\n",
       " '남규리',\n",
       " '남녀공학',\n",
       " '남우현',\n",
       " '남자의자격',\n",
       " '낯선',\n",
       " '넉살',\n",
       " '노라조',\n",
       " '노블레스',\n",
       " '노을',\n",
       " '노홍철',\n",
       " '뉴이스트',\n",
       " '뉴이스트w',\n",
       " '니모',\n",
       " '니엘',\n",
       " '닉쿤',\n",
       " '닐로',\n",
       " '다니엘',\n",
       " '다비치',\n",
       " '다이나믹듀오',\n",
       " '다이나믹블랙',\n",
       " '다이아',\n",
       " '다즐링레드',\n",
       " '달샤벳',\n",
       " '대성',\n",
       " '댄싱게놈',\n",
       " '더네임',\n",
       " '더레이',\n",
       " '더블루',\n",
       " '더블케이',\n",
       " '더씨야',\n",
       " '더원',\n",
       " '더콰이엇',\n",
       " '데프콘',\n",
       " '도끼',\n",
       " '동방신기',\n",
       " '동해',\n",
       " '드렁큰타이거',\n",
       " '드림걸스',\n",
       " '디셈버',\n",
       " '디아',\n",
       " '디엔티',\n",
       " '딕펑스',\n",
       " '딥플로우',\n",
       " '뚱스',\n",
       " '뜨거운감자',\n",
       " '라니아',\n",
       " '라디',\n",
       " '라이머',\n",
       " '러브포션',\n",
       " '러브홀릭스',\n",
       " '러블리즈',\n",
       " '럼블피쉬',\n",
       " '레게강같은평화',\n",
       " '레드벨벳',\n",
       " '레디',\n",
       " '레이디스코드',\n",
       " '레이디제인',\n",
       " '레인보우',\n",
       " '레인보우블랙',\n",
       " '레인보우픽스',\n",
       " '로꼬',\n",
       " '로시',\n",
       " '로이킴',\n",
       " '루나',\n",
       " '루피',\n",
       " '룰라',\n",
       " '리사',\n",
       " '리쌍',\n",
       " '리즈',\n",
       " '릴보이',\n",
       " '마리오',\n",
       " '마마무',\n",
       " '마미손',\n",
       " '마이네임',\n",
       " '마이티마우스',\n",
       " '마크툽',\n",
       " '매니악',\n",
       " '매드클라운',\n",
       " '맥케이',\n",
       " '먼데이키즈',\n",
       " '메이다니',\n",
       " '메이비',\n",
       " '멜로디데이',\n",
       " '멜로망스',\n",
       " '멜로우',\n",
       " '명카드라이브',\n",
       " '명콜드라이브',\n",
       " '모모랜드',\n",
       " '모세',\n",
       " '몽실이시스터즈',\n",
       " '무한도전',\n",
       " '문명진',\n",
       " '문문',\n",
       " '미료',\n",
       " '미스에스',\n",
       " '민경훈',\n",
       " '민서',\n",
       " '민아',\n",
       " '바닐라어쿠스틱',\n",
       " '바다',\n",
       " '바닷길',\n",
       " '바비킴',\n",
       " '바이브',\n",
       " '박경',\n",
       " '박명수',\n",
       " '박보검',\n",
       " '박보람',\n",
       " '박보영',\n",
       " '박봄',\n",
       " '박상민',\n",
       " '박상우',\n",
       " '박서준',\n",
       " '박시환',\n",
       " '박완규',\n",
       " '박용인',\n",
       " '박원',\n",
       " '박재범',\n",
       " '박재정',\n",
       " '박정은',\n",
       " '박정현',\n",
       " '박지민',\n",
       " '박지윤',\n",
       " '박지헌',\n",
       " '박진영',\n",
       " '박칼린',\n",
       " '박혜경',\n",
       " '박효신',\n",
       " '방탄소년단',\n",
       " '배다해',\n",
       " '배드키즈',\n",
       " '배슬기',\n",
       " '배치기',\n",
       " '백아연',\n",
       " '백예린',\n",
       " '백지영',\n",
       " '백찬',\n",
       " '백청강',\n",
       " '버벌진트',\n",
       " '버스커버스커',\n",
       " '버즈',\n",
       " '범키',\n",
       " '베베미뇽',\n",
       " '베스티',\n",
       " '베이빌론',\n",
       " '베이식',\n",
       " '베이지',\n",
       " '병살',\n",
       " '보아',\n",
       " '보이비',\n",
       " '보이스원',\n",
       " '보이프렌드',\n",
       " '볼빨간사춘기',\n",
       " '부가킹즈',\n",
       " '부활',\n",
       " '브라운아이드걸스',\n",
       " '브라운아이드소울',\n",
       " '브라이언',\n",
       " '브랜뉴데이',\n",
       " '브레이브걸스',\n",
       " '블락비',\n",
       " '블락비바스타즈',\n",
       " '블랙넛',\n",
       " '블랙펄',\n",
       " '블루',\n",
       " '비스트',\n",
       " '비와이',\n",
       " '비욘드',\n",
       " '비투비',\n",
       " '비투와이',\n",
       " '빅마마',\n",
       " '빅마마소울',\n",
       " '빅뱅',\n",
       " '빅스',\n",
       " '빈지노',\n",
       " '빈첸',\n",
       " '산다라박',\n",
       " '산들',\n",
       " '산이',\n",
       " '살찐고양이',\n",
       " '삼자돼면',\n",
       " '상주나',\n",
       " '새벽한시',\n",
       " '샘김',\n",
       " '샤이니',\n",
       " '샵건',\n",
       " '서문탁',\n",
       " '서영은',\n",
       " '서인국',\n",
       " '서인영',\n",
       " '서출구',\n",
       " '서태지',\n",
       " '서현',\n",
       " '서현진',\n",
       " '선데이',\n",
       " '선미',\n",
       " '선예',\n",
       " '성시경',\n",
       " '성유리',\n",
       " '세븐',\n",
       " '세븐티핑거스',\n",
       " '세븐틴',\n",
       " '세정',\n",
       " '센치한하하',\n",
       " '소녀시대',\n",
       " '소녀온탑',\n",
       " '소야',\n",
       " '소유',\n",
       " '소지섭',\n",
       " '소진',\n",
       " '소찬휘',\n",
       " '소향',\n",
       " '손담비',\n",
       " '손동운',\n",
       " '손승연',\n",
       " '손호영',\n",
       " '솔비',\n",
       " '솔지',\n",
       " '솔지하니',\n",
       " '송민호',\n",
       " '송은이',\n",
       " '송지은',\n",
       " '송희진',\n",
       " '수란',\n",
       " '수지',\n",
       " '수펄스',\n",
       " '수호',\n",
       " '숙희',\n",
       " '술제이',\n",
       " '슈퍼스타k',\n",
       " '슈퍼스타k2',\n",
       " '슈퍼주니어',\n",
       " '슈프림팀',\n",
       " '스윗소로우',\n",
       " '스윗콧소로우',\n",
       " '스윙스',\n",
       " '스컬',\n",
       " '스탠딩에그',\n",
       " '스텔라',\n",
       " '스피카',\n",
       " '슬레이트',\n",
       " '슬리피',\n",
       " '슬옹',\n",
       " '승리',\n",
       " '시아준수',\n",
       " '시원',\n",
       " '시크릿',\n",
       " '식케이',\n",
       " '신민아',\n",
       " '신보라',\n",
       " '신승훈',\n",
       " '신용재',\n",
       " '신지',\n",
       " '신현희와김루트',\n",
       " '신혜성',\n",
       " '신화',\n",
       " '심은경',\n",
       " '싸이',\n",
       " '써니',\n",
       " '써니사이드',\n",
       " '써니사이드엠제이',\n",
       " '써니힐',\n",
       " '썸데이',\n",
       " '씨스타',\n",
       " '씨스타19',\n",
       " '씨야',\n",
       " '씨엔블루',\n",
       " '씨잼',\n",
       " '아웃사이더',\n",
       " '아이들',\n",
       " '아이비',\n",
       " '아이언',\n",
       " '아이오아이',\n",
       " '아이유',\n",
       " '아이즈원',\n",
       " '악동뮤지션',\n",
       " '알렉스',\n",
       " '알리',\n",
       " '애즈원',\n",
       " '애프터쉐이빙',\n",
       " '애프터스쿨',\n",
       " '애프터스쿨blue',\n",
       " '애프터스쿨red',\n",
       " '앤씨아',\n",
       " '양다일',\n",
       " '양세형xbewhy',\n",
       " '양요섭',\n",
       " '양파',\n",
       " '양홍원',\n",
       " '어반자카파',\n",
       " '어쿠루브',\n",
       " '어쿠스틱콜라보',\n",
       " '언니쓰',\n",
       " '언터쳐블',\n",
       " '언프리티랩스타2',\n",
       " '엄정화',\n",
       " '없음',\n",
       " '에디킴',\n",
       " '에릭남',\n",
       " '에이스타일',\n",
       " '에이트',\n",
       " '에이프린스',\n",
       " '에이프릴',\n",
       " '에이핑크',\n",
       " '에일리',\n",
       " '에프엑스',\n",
       " '에픽하이',\n",
       " '엠버',\n",
       " '엠블랙',\n",
       " '엠스트리트',\n",
       " '엠와이케이',\n",
       " '엠투엠',\n",
       " '여은',\n",
       " '여자친구',\n",
       " '영준',\n",
       " '예지',\n",
       " '오담률',\n",
       " '오대천왕',\n",
       " '오렌지캬라멜',\n",
       " '오르내림',\n",
       " '오마이걸',\n",
       " '오스카',\n",
       " '오종혁',\n",
       " '오태호',\n",
       " '오혁',\n",
       " '옥주현',\n",
       " '올티',\n",
       " '와블',\n",
       " '왁스',\n",
       " '용감한녀석들',\n",
       " '용준형',\n",
       " '우원재',\n",
       " '우은미',\n",
       " '우주소녀',\n",
       " '우현',\n",
       " '울랄라세션',\n",
       " '워너원',\n",
       " '원더걸스',\n",
       " '원써겐',\n",
       " '원투',\n",
       " '원티드',\n",
       " '웨일',\n",
       " '웬디',\n",
       " '유나킴',\n",
       " '유미',\n",
       " '유빈',\n",
       " '유성은',\n",
       " '유승우',\n",
       " '유엔',\n",
       " '유영진',\n",
       " '유재석',\n",
       " '유재환',\n",
       " '유주',\n",
       " '유채영',\n",
       " '유키스',\n",
       " '유호석',\n",
       " '육성재',\n",
       " '육지담',\n",
       " '윤건',\n",
       " '윤도현',\n",
       " '윤미래',\n",
       " '윤민수',\n",
       " '윤상현',\n",
       " '윤성기',\n",
       " '윤종신',\n",
       " '윤하',\n",
       " '윤현상',\n",
       " '으뜨거따시',\n",
       " '은지원',\n",
       " '이건율',\n",
       " '이기광',\n",
       " '이기찬',\n",
       " '이루',\n",
       " '이루펀트',\n",
       " '이문세',\n",
       " '이민호',\n",
       " '이보람',\n",
       " '이불',\n",
       " '이비아',\n",
       " '이상곤',\n",
       " '이석훈',\n",
       " '이선희',\n",
       " '이설아',\n",
       " '이소라',\n",
       " '이수',\n",
       " '이수근',\n",
       " '이수영',\n",
       " '이수현',\n",
       " '이승기',\n",
       " '이승철',\n",
       " '이승환',\n",
       " '이야기',\n",
       " '이영현',\n",
       " '이예준',\n",
       " '이유갓지않은이유',\n",
       " '이은미',\n",
       " '이재진',\n",
       " '이재훈',\n",
       " '이적',\n",
       " '이정',\n",
       " '이정아',\n",
       " '이정현',\n",
       " '이종현',\n",
       " '이지영',\n",
       " '이지혜',\n",
       " '이진성',\n",
       " '이진아',\n",
       " '이특',\n",
       " '이하이',\n",
       " '이해리',\n",
       " '이현',\n",
       " '이홍기',\n",
       " '이효리',\n",
       " '인순이',\n",
       " '인크레더블',\n",
       " '인피니트',\n",
       " '인피니트h',\n",
       " '일락',\n",
       " '일렉트로보이즈',\n",
       " '임도혁',\n",
       " '임슬옹',\n",
       " '임시완',\n",
       " '임재범',\n",
       " '임정희',\n",
       " '임창정',\n",
       " '잉키',\n",
       " '자우림',\n",
       " '자이언티',\n",
       " '장근석',\n",
       " '장기하와얼굴들',\n",
       " '장덕철',\n",
       " '장미여관',\n",
       " '장미하관',\n",
       " '장범준',\n",
       " '장우영',\n",
       " '장우혁',\n",
       " '장윤정',\n",
       " '장재인',\n",
       " '장현승',\n",
       " '장혜진',\n",
       " '저스디스',\n",
       " '저스트',\n",
       " '전진',\n",
       " '전효성',\n",
       " '정기고',\n",
       " '정동하',\n",
       " '정세운',\n",
       " '정슬기',\n",
       " '정승환',\n",
       " '정엽',\n",
       " '정용화',\n",
       " '정우',\n",
       " '정은지',\n",
       " '정인',\n",
       " '정준영',\n",
       " '정준일',\n",
       " '정준하',\n",
       " '정준하x지코',\n",
       " '정진운',\n",
       " '정키',\n",
       " '정하윤',\n",
       " '정형돈',\n",
       " '제국의아이들',\n",
       " '제니',\n",
       " '제시',\n",
       " '제시카',\n",
       " '제시카에이치오',\n",
       " '제아',\n",
       " '제이',\n",
       " '제이레빗',\n",
       " '제이세라',\n",
       " '제이워크',\n",
       " '제이큐티',\n",
       " '젝스키스',\n",
       " '조pd',\n",
       " '조권',\n",
       " '조문근',\n",
       " '조성모',\n",
       " '조용필',\n",
       " '조유진',\n",
       " '조현아',\n",
       " '존박',\n",
       " '종현',\n",
       " '주노플로',\n",
       " '주니엘',\n",
       " '주미연',\n",
       " '주비',\n",
       " '주석',\n",
       " '주헌',\n",
       " '준수',\n",
       " '쥬얼리',\n",
       " '쥬얼리s',\n",
       " '지나',\n",
       " '지누션',\n",
       " '지드래곤',\n",
       " '지드래곤x태양',\n",
       " '지민',\n",
       " '지아',\n",
       " '지연',\n",
       " '지오',\n",
       " '지코',\n",
       " '지훈',\n",
       " '진원',\n",
       " '차수경',\n",
       " '찬열',\n",
       " '창모',\n",
       " '창민',\n",
       " '채연',\n",
       " '처진달팽이',\n",
       " '천상지희다나',\n",
       " '철싸',\n",
       " '청하',\n",
       " '첸백시',\n",
       " '초신성',\n",
       " '초아',\n",
       " '최강창민',\n",
       " '최성일',\n",
       " '최자',\n",
       " '최진이',\n",
       " '최진혁',\n",
       " '치즈',\n",
       " '치타',\n",
       " '카라',\n",
       " '컬투',\n",
       " '케이넌',\n",
       " '케이윌',\n",
       " '케이티김',\n",
       " '코요태',\n",
       " '크러쉬',\n",
       " '크레용팝',\n",
       " '크리스탈',\n",
       " '클래지콰이',\n",
       " '클로버',\n",
       " '키디비',\n",
       " '키썸',\n",
       " '킬라그램',\n",
       " '타블로',\n",
       " '타우',\n",
       " '타이거jk',\n",
       " '타이니지',\n",
       " '태군',\n",
       " '태민',\n",
       " '태사비애',\n",
       " '태양',\n",
       " '태연',\n",
       " '태인',\n",
       " '태티서',\n",
       " '터보',\n",
       " '테이',\n",
       " '테이크',\n",
       " '토이',\n",
       " '투개월',\n",
       " '투빅',\n",
       " '투엑스',\n",
       " '투엘슨',\n",
       " '투영',\n",
       " '투윤',\n",
       " '트랜스픽션',\n",
       " '트러블메이커',\n",
       " '트루디',\n",
       " '트와이스',\n",
       " '티아라',\n",
       " '티아라n4',\n",
       " '티어라이너',\n",
       " '티파니',\n",
       " '틴탑',\n",
       " '파리돼지앵',\n",
       " '파이브돌스',\n",
       " '팬텀',\n",
       " '펀치',\n",
       " '페퍼',\n",
       " '펜타곤',\n",
       " '포맨',\n",
       " '포미닛',\n",
       " '포스트맨',\n",
       " '폴백',\n",
       " '폴킴',\n",
       " '퓨처라이거',\n",
       " '프라이머리',\n",
       " '프리스타일',\n",
       " '플라워',\n",
       " '플라이투더스카이',\n",
       " '피에스타',\n",
       " '하동균',\n",
       " '하림',\n",
       " '하우두유둘',\n",
       " '하은',\n",
       " '하이니',\n",
       " '하이라이트',\n",
       " '하이포',\n",
       " '하하',\n",
       " '하하x송민호',\n",
       " '하현우',\n",
       " '한경일',\n",
       " '한동근',\n",
       " '한선화',\n",
       " '한수지',\n",
       " '한해',\n",
       " '한희정',\n",
       " '핫펠트',\n",
       " '핲기',\n",
       " '해오라',\n",
       " '행주',\n",
       " '허각',\n",
       " '허니지',\n",
       " '허밍어반스테레오',\n",
       " '허영생',\n",
       " '헤이즈',\n",
       " '헨리',\n",
       " '헬로비너스',\n",
       " '혁오',\n",
       " '현빈',\n",
       " '현아',\n",
       " '형돈이와대준이',\n",
       " '형용돈죵',\n",
       " '홍경민',\n",
       " '홍대광',\n",
       " '홍민정',\n",
       " '홍진영',\n",
       " '화려강산',\n",
       " '화영',\n",
       " '화요비',\n",
       " '환희',\n",
       " '황광희x개코',\n",
       " '황보',\n",
       " '황정음',\n",
       " '황치열',\n",
       " '황태지',\n",
       " '효린',\n",
       " '효민',\n",
       " '휘성']"
      ]
     },
     "execution_count": 39,
     "metadata": {},
     "output_type": "execute_result"
    }
   ],
   "source": [
    "test_vectorizer_singer.get_feature_names()"
   ]
  },
  {
   "cell_type": "code",
   "execution_count": 40,
   "metadata": {},
   "outputs": [],
   "source": [
    "# sum(model_rf.feature_importances_ >= 0.017)\n",
    "\n",
    "# import_features_idx = np.where(model_rf.feature_importances_ >= 0.017)\n",
    "\n",
    "# import_features_idx\n",
    "\n",
    "# print(len(vectorizer_singer.get_feature_names()))\n",
    "# print(len(vectorizer_pd.get_feature_names()))\n",
    "\n",
    "# np.array(vectorizer_singer.get_feature_names())[[,  349,  516]]\n",
    "\n",
    "\n",
    "# np.array(vectorizer_pd.get_feature_names())[[1237-902, 1339-902, 1539-902, 1615-902, 1653-902]]"
   ]
  },
  {
   "cell_type": "markdown",
   "metadata": {},
   "source": [
    "<h3>3. Predict User Input Data </h3>"
   ]
  },
  {
   "cell_type": "code",
   "execution_count": 124,
   "metadata": {},
   "outputs": [],
   "source": [
    "singer = '종찬'\n",
    "producer = '지드래곤'\n",
    "user_music_type = '가요 > 알앤비'"
   ]
  },
  {
   "cell_type": "code",
   "execution_count": 125,
   "metadata": {},
   "outputs": [],
   "source": [
    "singer = str(singer).replace(\" \", \"\")\n",
    "producer = str(producer).replace(\" \", \"\")\n",
    "user_music_type = trans_music_type(user_music_type)"
   ]
  },
  {
   "cell_type": "code",
   "execution_count": 126,
   "metadata": {},
   "outputs": [],
   "source": [
    "user_x = {\"가수\":[singer], \"작곡\": [producer], \"장르\":[user_music_type]}"
   ]
  },
  {
   "cell_type": "code",
   "execution_count": 127,
   "metadata": {},
   "outputs": [],
   "source": [
    "user_x = pd.DataFrame(user_x, columns=[\"가수\",\"작곡\",\"장르\"])"
   ]
  },
  {
   "cell_type": "code",
   "execution_count": 128,
   "metadata": {},
   "outputs": [],
   "source": [
    "feature_list_singer = vectorizer_singer.get_feature_names()\n",
    "feature_list_pd = vectorizer_pd.get_feature_names()\n",
    "\n",
    "user_vectorizer_singer =  TfidfVectorizer(ngram_range=(1,1), vocabulary = feature_list_singer)\n",
    "user_vectorizer_pd =  TfidfVectorizer(ngram_range=(1,1), vocabulary = feature_list_pd)"
   ]
  },
  {
   "cell_type": "code",
   "execution_count": 129,
   "metadata": {},
   "outputs": [],
   "source": [
    "user_vec_singer = user_vectorizer_singer.fit_transform(user_x['가수'])\n",
    "user_vec_pd = user_vectorizer_pd.fit_transform(user_x['작곡'])\n",
    "user_vec_singer_pd = hstack((user_vec_singer, user_vec_pd))"
   ]
  },
  {
   "cell_type": "code",
   "execution_count": 130,
   "metadata": {},
   "outputs": [],
   "source": [
    "user_x_2 = hstack((user_vec_singer_pd, user_x['장르']))\n",
    "\n"
   ]
  },
  {
   "cell_type": "code",
   "execution_count": 131,
   "metadata": {},
   "outputs": [],
   "source": [
    "pred_user = model_rf.predict(user_x_2)"
   ]
  },
  {
   "cell_type": "code",
   "execution_count": 132,
   "metadata": {},
   "outputs": [
    {
     "name": "stdout",
     "output_type": "stream",
     "text": [
      "False\n"
     ]
    }
   ],
   "source": [
    "print(pred_user[0])"
   ]
  },
  {
   "cell_type": "code",
   "execution_count": 133,
   "metadata": {},
   "outputs": [
    {
     "data": {
      "text/plain": [
       "array([[0.50247977, 0.49752023]])"
      ]
     },
     "execution_count": 133,
     "metadata": {},
     "output_type": "execute_result"
    }
   ],
   "source": [
    "model_rf.predict_proba(user_x_2)"
   ]
  },
  {
   "cell_type": "markdown",
   "metadata": {},
   "source": [
    "<h3>4. Pickle 활용</h3>"
   ]
  },
  {
   "cell_type": "code",
   "execution_count": 50,
   "metadata": {},
   "outputs": [
    {
     "data": {
      "text/plain": [
       "1107"
      ]
     },
     "execution_count": 50,
     "metadata": {},
     "output_type": "execute_result"
    }
   ],
   "source": [
    "len(feature_list_singer)\n",
    "len(feature_list_pd)"
   ]
  },
  {
   "cell_type": "code",
   "execution_count": 51,
   "metadata": {},
   "outputs": [],
   "source": [
    "import pickle\n",
    "\n",
    "with open('feature_list_singer_2.txt','wb') as f:\n",
    "    pickle.dump(feature_list_singer,f)\n",
    "\n",
    "with open('feature_list_pd_2.txt', 'wb') as f:\n",
    "    pickle.dump(feature_list_pd, f)"
   ]
  },
  {
   "cell_type": "code",
   "execution_count": 52,
   "metadata": {},
   "outputs": [],
   "source": [
    "with open('final_model', 'wb') as f:\n",
    "    pickle.dump(model_rf, f)"
   ]
  },
  {
   "cell_type": "code",
   "execution_count": 53,
   "metadata": {},
   "outputs": [],
   "source": [
    "with open('final_model','rb') as f:\n",
    "    final_model = pickle.load(f)   "
   ]
  },
  {
   "cell_type": "code",
   "execution_count": 54,
   "metadata": {},
   "outputs": [
    {
     "data": {
      "text/plain": [
       "array([False])"
      ]
     },
     "execution_count": 54,
     "metadata": {},
     "output_type": "execute_result"
    }
   ],
   "source": [
    "final_model.predict(user_x_2)"
   ]
  },
  {
   "cell_type": "code",
   "execution_count": 55,
   "metadata": {},
   "outputs": [],
   "source": [
    "with open('feature_list_singer_2.txt','rb') as f:\n",
    "    feature_list_singer_2=pickle.load(f)   \n",
    "    \n",
    "with open('feature_list_pd_2.txt','rb') as f:\n",
    "    feature_list_pd_2=pickle.load(f)         "
   ]
  },
  {
   "cell_type": "code",
   "execution_count": 56,
   "metadata": {},
   "outputs": [],
   "source": [
    "singer = '홍다희'\n",
    "producer = '이대환'"
   ]
  },
  {
   "cell_type": "code",
   "execution_count": 57,
   "metadata": {},
   "outputs": [
    {
     "ename": "ValueError",
     "evalue": "X has 2001 features per sample; expecting 2002",
     "output_type": "error",
     "traceback": [
      "\u001b[1;31m---------------------------------------------------------------------------\u001b[0m",
      "\u001b[1;31mValueError\u001b[0m                                Traceback (most recent call last)",
      "\u001b[1;32m<ipython-input-57-d72d8ac49739>\u001b[0m in \u001b[0;36m<module>\u001b[1;34m()\u001b[0m\n\u001b[0;32m     19\u001b[0m \u001b[1;31m#\u001b[0m\u001b[1;33m\u001b[0m\u001b[1;33m\u001b[0m\u001b[0m\n\u001b[0;32m     20\u001b[0m \u001b[1;33m\u001b[0m\u001b[0m\n\u001b[1;32m---> 21\u001b[1;33m \u001b[0mpred_user\u001b[0m \u001b[1;33m=\u001b[0m \u001b[0mmodel_rf\u001b[0m\u001b[1;33m.\u001b[0m\u001b[0mpredict\u001b[0m\u001b[1;33m(\u001b[0m\u001b[0muser_x\u001b[0m\u001b[1;33m)\u001b[0m\u001b[1;33m\u001b[0m\u001b[0m\n\u001b[0m\u001b[0;32m     22\u001b[0m \u001b[0mprint\u001b[0m\u001b[1;33m(\u001b[0m\u001b[0mpred_user\u001b[0m\u001b[1;33m[\u001b[0m\u001b[1;36m0\u001b[0m\u001b[1;33m]\u001b[0m\u001b[1;33m)\u001b[0m\u001b[1;33m\u001b[0m\u001b[0m\n",
      "\u001b[1;32mC:\\Anaconda3\\envs\\test\\lib\\site-packages\\sklearn\\linear_model\\base.py\u001b[0m in \u001b[0;36mpredict\u001b[1;34m(self, X)\u001b[0m\n\u001b[0;32m    322\u001b[0m             \u001b[0mPredicted\u001b[0m \u001b[1;32mclass\u001b[0m \u001b[0mlabel\u001b[0m \u001b[0mper\u001b[0m \u001b[0msample\u001b[0m\u001b[1;33m.\u001b[0m\u001b[1;33m\u001b[0m\u001b[0m\n\u001b[0;32m    323\u001b[0m         \"\"\"\n\u001b[1;32m--> 324\u001b[1;33m         \u001b[0mscores\u001b[0m \u001b[1;33m=\u001b[0m \u001b[0mself\u001b[0m\u001b[1;33m.\u001b[0m\u001b[0mdecision_function\u001b[0m\u001b[1;33m(\u001b[0m\u001b[0mX\u001b[0m\u001b[1;33m)\u001b[0m\u001b[1;33m\u001b[0m\u001b[0m\n\u001b[0m\u001b[0;32m    325\u001b[0m         \u001b[1;32mif\u001b[0m \u001b[0mlen\u001b[0m\u001b[1;33m(\u001b[0m\u001b[0mscores\u001b[0m\u001b[1;33m.\u001b[0m\u001b[0mshape\u001b[0m\u001b[1;33m)\u001b[0m \u001b[1;33m==\u001b[0m \u001b[1;36m1\u001b[0m\u001b[1;33m:\u001b[0m\u001b[1;33m\u001b[0m\u001b[0m\n\u001b[0;32m    326\u001b[0m             \u001b[0mindices\u001b[0m \u001b[1;33m=\u001b[0m \u001b[1;33m(\u001b[0m\u001b[0mscores\u001b[0m \u001b[1;33m>\u001b[0m \u001b[1;36m0\u001b[0m\u001b[1;33m)\u001b[0m\u001b[1;33m.\u001b[0m\u001b[0mastype\u001b[0m\u001b[1;33m(\u001b[0m\u001b[0mnp\u001b[0m\u001b[1;33m.\u001b[0m\u001b[0mint\u001b[0m\u001b[1;33m)\u001b[0m\u001b[1;33m\u001b[0m\u001b[0m\n",
      "\u001b[1;32mC:\\Anaconda3\\envs\\test\\lib\\site-packages\\sklearn\\linear_model\\base.py\u001b[0m in \u001b[0;36mdecision_function\u001b[1;34m(self, X)\u001b[0m\n\u001b[0;32m    303\u001b[0m         \u001b[1;32mif\u001b[0m \u001b[0mX\u001b[0m\u001b[1;33m.\u001b[0m\u001b[0mshape\u001b[0m\u001b[1;33m[\u001b[0m\u001b[1;36m1\u001b[0m\u001b[1;33m]\u001b[0m \u001b[1;33m!=\u001b[0m \u001b[0mn_features\u001b[0m\u001b[1;33m:\u001b[0m\u001b[1;33m\u001b[0m\u001b[0m\n\u001b[0;32m    304\u001b[0m             raise ValueError(\"X has %d features per sample; expecting %d\"\n\u001b[1;32m--> 305\u001b[1;33m                              % (X.shape[1], n_features))\n\u001b[0m\u001b[0;32m    306\u001b[0m \u001b[1;33m\u001b[0m\u001b[0m\n\u001b[0;32m    307\u001b[0m         scores = safe_sparse_dot(X, self.coef_.T,\n",
      "\u001b[1;31mValueError\u001b[0m: X has 2001 features per sample; expecting 2002"
     ]
    }
   ],
   "source": [
    "singer = str(singer).replace(\" \", \"\")\n",
    "producer = str(producer).replace(\" \", \"\")\n",
    "\n",
    "user_x = {\"가수\":[singer], \"작곡\": [producer]}\n",
    "user_x = pd.DataFrame(user_x, columns=[\"가수\",\"작곡\"])\n",
    "\n",
    "feature_list_singer = vectorizer_singer.get_feature_names()\n",
    "feature_list_pd = vectorizer_pd.get_feature_names()\n",
    "\n",
    "user_vectorizer_singer =  TfidfVectorizer(ngram_range=(1,1), vocabulary = feature_list_singer_2)\n",
    "user_vectorizer_pd =  TfidfVectorizer(ngram_range=(1,1), vocabulary = feature_list_pd_2)\n",
    "\n",
    "\n",
    "\n",
    "user_vec_singer = user_vectorizer_singer.fit_transform(user_x['가수'])\n",
    "user_vec_pd = user_vectorizer_pd.fit_transform(user_x['작곡'])\n",
    "user_x = hstack((user_vec_singer, user_vec_pd))\n",
    "\n",
    "# \n",
    "\n",
    "pred_user = model_rf.predict(user_x)\n",
    "print(pred_user[0])"
   ]
  },
  {
   "cell_type": "code",
   "execution_count": 58,
   "metadata": {},
   "outputs": [
    {
     "data": {
      "text/plain": [
       "<matplotlib.axes._subplots.AxesSubplot at 0xca099e8>"
      ]
     },
     "execution_count": 58,
     "metadata": {},
     "output_type": "execute_result"
    },
    {
     "data": {
      "image/png": "[encoded data removed]",
      "text/plain": [
       "<Figure size 432x288 with 1 Axes>"
      ]
     },
     "metadata": {},
     "output_type": "display_data"
    }
   ],
   "source": [
    "sns.countplot(df_2['음악장르'], hue=df_2['순위_4'])"
   ]
  },
  {
   "cell_type": "code",
   "execution_count": 59,
   "metadata": {},
   "outputs": [
    {
     "data": {
      "text/plain": [
       "<matplotlib.axes._subplots.AxesSubplot at 0xca09780>"
      ]
     },
     "execution_count": 59,
     "metadata": {},
     "output_type": "execute_result"
    },
    {
     "data": {
      "image/png": "[encoded data removed]",
      "text/plain": [
       "<Figure size 432x288 with 1 Axes>"
      ]
     },
     "metadata": {},
     "output_type": "display_data"
    }
   ],
   "source": [
    "sns.countplot(df_2['활동유형'], hue=df_2['순위_4'])"
   ]
  },
  {
   "cell_type": "code",
   "execution_count": 62,
   "metadata": {},
   "outputs": [
    {
     "data": {
      "text/plain": [
       "음악장르\n",
       "OST          268\n",
       "가요 > 락      1080\n",
       "가요 > 알앤비    9359\n",
       "가요 > 힙합     3076\n",
       "기타           970\n",
       "댄스 > 댄스     6818\n",
       "dtype: int64"
      ]
     },
     "execution_count": 62,
     "metadata": {},
     "output_type": "execute_result"
    }
   ],
   "source": [
    "df_2.groupby('음악장르').size()"
   ]
  },
  {
   "cell_type": "code",
   "execution_count": null,
   "metadata": {},
   "outputs": [],
   "source": []
  },
  {
   "cell_type": "code",
   "execution_count": null,
   "metadata": {},
   "outputs": [],
   "source": []
  }
 ],
 "metadata": {
  "kernelspec": {
   "display_name": "Python 3",
   "language": "python",
   "name": "python3"
  },
  "language_info": {
   "codemirror_mode": {
    "name": "ipython",
    "version": 3
   },
   "file_extension": ".py",
   "mimetype": "text/x-python",
   "name": "python",
   "nbconvert_exporter": "python",
   "pygments_lexer": "ipython3",
   "version": "3.6.5"
  }
 },
 "nbformat": 4,
 "nbformat_minor": 2
}
